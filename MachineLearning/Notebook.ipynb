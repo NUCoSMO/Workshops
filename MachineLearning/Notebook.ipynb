{
  "cells": [
    {
      "metadata": {
        "_uuid": "0eca84a05c68c09f51ebee33fc08c6b2ae186a9c"
      },
      "cell_type": "markdown",
      "source": "# CoSMO Machine Learning Workshop\n\n## Prerequisites:\n\n## Kaggle\nWe will be using Kaggle for this workshop, so head to [kaggle.com](https://www.kaggle.com) and sign up for an account.    \nYou can sign up with Google or Facebook (or just manually create an account).    \nWe will be using the \"Rain in Australia\" [dataset](https://www.kaggle.com/jsphyg/weather-dataset-rattle-package), so search for that and select it (or choose your own if you want to be creative!)\n\n#### Making a Kaggle Kernel\nOnce you've selected a Kaggle dataset, choose \"New Kernel\" and then choose \"Notebook\".   \nNotebooks are a really great way to iteratively work on a machine learning project. You run code in chunks, one paragraph at a time.   \nThey allow for making quick and easy changes without having to rerun all of your code every time.   \nYou can also add in markdown paragraphs (like this one) to explain to your audience what you are doing.\n\n## Python\nWe will be using Python to do data processing and model training.    \nIf you aren't familiar with Python, you can check out the basics from one of our previous [workshops](https://github.com/NUCoSMO/Workshops/blob/master/PythonBeginnerWorkshop.md)    \nThree extremely common Python libraries that are used for machine learning are numpy, pandas, and sklearn.\n\n#### Numpy\nNumpy defines a number of helpful functions that can be applied to lists/matrices/dataframes   \n\nCheck out numpy [documentation](https://docs.scipy.org/doc/numpy/reference/index.html), and don't be afraid to Google!\n\n#### Pandas\nPandas defines \"DataFrames\", one of the most common data types when working on machine learning projects.   \nDataFrames are basically tables of data, where each row is a data point and each column is a feature of that data point.   \nMany machine learning models available in Python accept DataFrames as input.\n\nCheck out pandas [documentation](http://pandas.pydata.org/pandas-docs/stable/reference/)!\n\n#### Sklearn\nSklearn is Python's most commonly used package for building machine learning models.   \nSklearn implements a number of machine learning models, as well as additional functions for training and evaluation.\n\nCheck out sklearn [documentation](https://scikit-learn.org/stable/)!"
    },
    {
      "metadata": {
        "_uuid": "8f2839f25d086af736a60e9eeb907d3b93b6e0e5",
        "_cell_guid": "b1076dfc-b9ad-4769-8c92-a6c4dae69d19",
        "trusted": true,
        "scrolled": true
      },
      "cell_type": "code",
      "source": "# This Python 3 environment comes with many helpful analytics libraries installed\n# It is defined by the kaggle/python docker image: https://github.com/kaggle/docker-python\n# For example, here's several helpful packages to load in \n\nimport numpy as np # linear algebra\nimport pandas as pd # data processing, CSV file I/O (e.g. pd.read_csv)\n\n# Input data files are available in the \"../input/\" directory.\n# For example, running this (by clicking run or pressing Shift+Enter) will list the files in the input directory\n\nimport os\nprint(os.listdir(\"../input\"))\n\n# Any results you write to the current directory are saved as output.",
      "execution_count": 10,
      "outputs": [
        {
          "output_type": "stream",
          "text": "['weatherAUS.csv']\n",
          "name": "stdout"
        }
      ]
    },
    {
      "metadata": {
        "_uuid": "cd5c645d7412cda1add473f0668eacc18e6ac123"
      },
      "cell_type": "markdown",
      "source": "# Step 0: Have a data source\n"
    },
    {
      "metadata": {
        "_cell_guid": "79c7e3d0-c299-4dcb-8224-4455121ee9b0",
        "_uuid": "d629ff2d2480ee46fbb7e2d37f6b5fab8052498a",
        "trusted": true,
        "scrolled": true
      },
      "cell_type": "code",
      "source": "## Load your dataset, use pd.read_csv(...) if working with csvs\nall_data = pd.read_csv('../input/weatherAUS.csv')\n\n## Inspect your data set (dimensions, columns, first few rows)\nprint(all_data.shape)\nprint(all_data.columns)\nall_data.head(5)",
      "execution_count": 11,
      "outputs": [
        {
          "output_type": "stream",
          "text": "(142193, 24)\nIndex(['Date', 'Location', 'MinTemp', 'MaxTemp', 'Rainfall', 'Evaporation',\n       'Sunshine', 'WindGustDir', 'WindGustSpeed', 'WindDir9am', 'WindDir3pm',\n       'WindSpeed9am', 'WindSpeed3pm', 'Humidity9am', 'Humidity3pm',\n       'Pressure9am', 'Pressure3pm', 'Cloud9am', 'Cloud3pm', 'Temp9am',\n       'Temp3pm', 'RainToday', 'RISK_MM', 'RainTomorrow'],\n      dtype='object')\n",
          "name": "stdout"
        },
        {
          "output_type": "execute_result",
          "execution_count": 11,
          "data": {
            "text/plain": "         Date Location  MinTemp      ...       RainToday  RISK_MM  RainTomorrow\n0  2008-12-01   Albury     13.4      ...              No      0.0            No\n1  2008-12-02   Albury      7.4      ...              No      0.0            No\n2  2008-12-03   Albury     12.9      ...              No      0.0            No\n3  2008-12-04   Albury      9.2      ...              No      1.0            No\n4  2008-12-05   Albury     17.5      ...              No      0.2            No\n\n[5 rows x 24 columns]",
            "text/html": "<div>\n<style scoped>\n    .dataframe tbody tr th:only-of-type {\n        vertical-align: middle;\n    }\n\n    .dataframe tbody tr th {\n        vertical-align: top;\n    }\n\n    .dataframe thead th {\n        text-align: right;\n    }\n</style>\n<table border=\"1\" class=\"dataframe\">\n  <thead>\n    <tr style=\"text-align: right;\">\n      <th></th>\n      <th>Date</th>\n      <th>Location</th>\n      <th>MinTemp</th>\n      <th>MaxTemp</th>\n      <th>Rainfall</th>\n      <th>Evaporation</th>\n      <th>Sunshine</th>\n      <th>WindGustDir</th>\n      <th>WindGustSpeed</th>\n      <th>WindDir9am</th>\n      <th>WindDir3pm</th>\n      <th>WindSpeed9am</th>\n      <th>WindSpeed3pm</th>\n      <th>Humidity9am</th>\n      <th>Humidity3pm</th>\n      <th>Pressure9am</th>\n      <th>Pressure3pm</th>\n      <th>Cloud9am</th>\n      <th>Cloud3pm</th>\n      <th>Temp9am</th>\n      <th>Temp3pm</th>\n      <th>RainToday</th>\n      <th>RISK_MM</th>\n      <th>RainTomorrow</th>\n    </tr>\n  </thead>\n  <tbody>\n    <tr>\n      <th>0</th>\n      <td>2008-12-01</td>\n      <td>Albury</td>\n      <td>13.4</td>\n      <td>22.9</td>\n      <td>0.6</td>\n      <td>NaN</td>\n      <td>NaN</td>\n      <td>W</td>\n      <td>44.0</td>\n      <td>W</td>\n      <td>WNW</td>\n      <td>20.0</td>\n      <td>24.0</td>\n      <td>71.0</td>\n      <td>22.0</td>\n      <td>1007.7</td>\n      <td>1007.1</td>\n      <td>8.0</td>\n      <td>NaN</td>\n      <td>16.9</td>\n      <td>21.8</td>\n      <td>No</td>\n      <td>0.0</td>\n      <td>No</td>\n    </tr>\n    <tr>\n      <th>1</th>\n      <td>2008-12-02</td>\n      <td>Albury</td>\n      <td>7.4</td>\n      <td>25.1</td>\n      <td>0.0</td>\n      <td>NaN</td>\n      <td>NaN</td>\n      <td>WNW</td>\n      <td>44.0</td>\n      <td>NNW</td>\n      <td>WSW</td>\n      <td>4.0</td>\n      <td>22.0</td>\n      <td>44.0</td>\n      <td>25.0</td>\n      <td>1010.6</td>\n      <td>1007.8</td>\n      <td>NaN</td>\n      <td>NaN</td>\n      <td>17.2</td>\n      <td>24.3</td>\n      <td>No</td>\n      <td>0.0</td>\n      <td>No</td>\n    </tr>\n    <tr>\n      <th>2</th>\n      <td>2008-12-03</td>\n      <td>Albury</td>\n      <td>12.9</td>\n      <td>25.7</td>\n      <td>0.0</td>\n      <td>NaN</td>\n      <td>NaN</td>\n      <td>WSW</td>\n      <td>46.0</td>\n      <td>W</td>\n      <td>WSW</td>\n      <td>19.0</td>\n      <td>26.0</td>\n      <td>38.0</td>\n      <td>30.0</td>\n      <td>1007.6</td>\n      <td>1008.7</td>\n      <td>NaN</td>\n      <td>2.0</td>\n      <td>21.0</td>\n      <td>23.2</td>\n      <td>No</td>\n      <td>0.0</td>\n      <td>No</td>\n    </tr>\n    <tr>\n      <th>3</th>\n      <td>2008-12-04</td>\n      <td>Albury</td>\n      <td>9.2</td>\n      <td>28.0</td>\n      <td>0.0</td>\n      <td>NaN</td>\n      <td>NaN</td>\n      <td>NE</td>\n      <td>24.0</td>\n      <td>SE</td>\n      <td>E</td>\n      <td>11.0</td>\n      <td>9.0</td>\n      <td>45.0</td>\n      <td>16.0</td>\n      <td>1017.6</td>\n      <td>1012.8</td>\n      <td>NaN</td>\n      <td>NaN</td>\n      <td>18.1</td>\n      <td>26.5</td>\n      <td>No</td>\n      <td>1.0</td>\n      <td>No</td>\n    </tr>\n    <tr>\n      <th>4</th>\n      <td>2008-12-05</td>\n      <td>Albury</td>\n      <td>17.5</td>\n      <td>32.3</td>\n      <td>1.0</td>\n      <td>NaN</td>\n      <td>NaN</td>\n      <td>W</td>\n      <td>41.0</td>\n      <td>ENE</td>\n      <td>NW</td>\n      <td>7.0</td>\n      <td>20.0</td>\n      <td>82.0</td>\n      <td>33.0</td>\n      <td>1010.8</td>\n      <td>1006.0</td>\n      <td>7.0</td>\n      <td>8.0</td>\n      <td>17.8</td>\n      <td>29.7</td>\n      <td>No</td>\n      <td>0.2</td>\n      <td>No</td>\n    </tr>\n  </tbody>\n</table>\n</div>"
          },
          "metadata": {}
        }
      ]
    },
    {
      "metadata": {
        "trusted": true,
        "_uuid": "22e64682cc03866441273cd641435845109241fd"
      },
      "cell_type": "code",
      "source": "## Look for null values in your columns (see which columns you want to use)\n\npd.isnull(all_data).sum(axis=0) * 100 / all_data.shape[0]",
      "execution_count": 12,
      "outputs": [
        {
          "output_type": "execute_result",
          "execution_count": 12,
          "data": {
            "text/plain": "Date              0.000000\nLocation          0.000000\nMinTemp           0.447983\nMaxTemp           0.226453\nRainfall          0.988797\nEvaporation      42.789026\nSunshine         47.692924\nWindGustDir       6.561504\nWindGustSpeed     6.519308\nWindDir9am        7.041838\nWindDir3pm        2.656952\nWindSpeed9am      0.948007\nWindSpeed3pm      1.849599\nHumidity9am       1.247600\nHumidity3pm       2.538803\nPressure9am       9.855619\nPressure3pm       9.832411\nCloud9am         37.735332\nCloud3pm         40.152469\nTemp9am           0.635756\nTemp3pm           1.917113\nRainToday         0.988797\nRISK_MM           0.000000\nRainTomorrow      0.000000\ndtype: float64"
          },
          "metadata": {}
        }
      ]
    },
    {
      "metadata": {
        "_uuid": "8d00a278e667e80a3d2566896f72e52463e6b9ef"
      },
      "cell_type": "markdown",
      "source": "# Step 1: Generate features"
    },
    {
      "metadata": {
        "trusted": true,
        "_uuid": "dce509eea80bde12fb46086980c6c5e3fb93a5e1"
      },
      "cell_type": "code",
      "source": "### Generate features from total dataset (subset columns, apply transformations, etc)\n\n## Determine which raw feature columns to use\nfeat_cols = ['Date', 'Location', 'MinTemp', 'MaxTemp', 'Rainfall', \n            'WindGustDir', 'WindGustSpeed', 'WindDir9am', 'WindDir3pm',\n            'WindSpeed9am', 'WindSpeed3pm', 'Humidity9am', 'Humidity3pm',\n            'Pressure9am', 'Pressure3pm','Temp9am','Temp3pm', 'RainToday']\n\n## Determine your label column\noutput_col = \"RainTomorrow\"\n\n## Split up features (X) from labels (Y)\nfeatures = all_data[feat_cols]\nlabels = all_data[output_col]\nprint(features.shape)\n\n## Remove rows with nulls (there are other ways to deal with null values, but this is simplest for now)\nnon_null_rows = pd.isnull(features).sum(axis=1) == 0\nfeatures = features[non_null_rows]\nlabels = labels[non_null_rows]\n\n## Map categorical value to binary\nfeatures[\"RainToday\"] = features[\"RainToday\"].map({\"Yes\":1, \"No\":0})\nlabels = labels.map({\"Yes\":1, \"No\":0})\n\n## Extract feature from existing column (Month from Date)\nfeatures[\"Date\"] = pd.to_datetime(features[\"Date\"])\nfeatures[\"Month\"] = features[\"Date\"].apply(lambda x: x.month)\n\n## Drop extra column\nfeatures.drop(\"Date\", axis=1, inplace=True)\n\nprint(features.shape)\nfeatures.head(10)",
      "execution_count": 13,
      "outputs": [
        {
          "output_type": "stream",
          "text": "(142193, 18)\n(112925, 18)\n",
          "name": "stdout"
        },
        {
          "output_type": "execute_result",
          "execution_count": 13,
          "data": {
            "text/plain": "  Location  MinTemp  MaxTemp  ...    Temp3pm RainToday  Month\n0   Albury     13.4     22.9  ...       21.8         0     12\n1   Albury      7.4     25.1  ...       24.3         0     12\n2   Albury     12.9     25.7  ...       23.2         0     12\n3   Albury      9.2     28.0  ...       26.5         0     12\n4   Albury     17.5     32.3  ...       29.7         0     12\n5   Albury     14.6     29.7  ...       28.9         0     12\n6   Albury     14.3     25.0  ...       24.6         0     12\n7   Albury      7.7     26.7  ...       25.5         0     12\n8   Albury      9.7     31.9  ...       30.2         0     12\n9   Albury     13.1     30.1  ...       28.2         1     12\n\n[10 rows x 18 columns]",
            "text/html": "<div>\n<style scoped>\n    .dataframe tbody tr th:only-of-type {\n        vertical-align: middle;\n    }\n\n    .dataframe tbody tr th {\n        vertical-align: top;\n    }\n\n    .dataframe thead th {\n        text-align: right;\n    }\n</style>\n<table border=\"1\" class=\"dataframe\">\n  <thead>\n    <tr style=\"text-align: right;\">\n      <th></th>\n      <th>Location</th>\n      <th>MinTemp</th>\n      <th>MaxTemp</th>\n      <th>Rainfall</th>\n      <th>WindGustDir</th>\n      <th>WindGustSpeed</th>\n      <th>WindDir9am</th>\n      <th>WindDir3pm</th>\n      <th>WindSpeed9am</th>\n      <th>WindSpeed3pm</th>\n      <th>Humidity9am</th>\n      <th>Humidity3pm</th>\n      <th>Pressure9am</th>\n      <th>Pressure3pm</th>\n      <th>Temp9am</th>\n      <th>Temp3pm</th>\n      <th>RainToday</th>\n      <th>Month</th>\n    </tr>\n  </thead>\n  <tbody>\n    <tr>\n      <th>0</th>\n      <td>Albury</td>\n      <td>13.4</td>\n      <td>22.9</td>\n      <td>0.6</td>\n      <td>W</td>\n      <td>44.0</td>\n      <td>W</td>\n      <td>WNW</td>\n      <td>20.0</td>\n      <td>24.0</td>\n      <td>71.0</td>\n      <td>22.0</td>\n      <td>1007.7</td>\n      <td>1007.1</td>\n      <td>16.9</td>\n      <td>21.8</td>\n      <td>0</td>\n      <td>12</td>\n    </tr>\n    <tr>\n      <th>1</th>\n      <td>Albury</td>\n      <td>7.4</td>\n      <td>25.1</td>\n      <td>0.0</td>\n      <td>WNW</td>\n      <td>44.0</td>\n      <td>NNW</td>\n      <td>WSW</td>\n      <td>4.0</td>\n      <td>22.0</td>\n      <td>44.0</td>\n      <td>25.0</td>\n      <td>1010.6</td>\n      <td>1007.8</td>\n      <td>17.2</td>\n      <td>24.3</td>\n      <td>0</td>\n      <td>12</td>\n    </tr>\n    <tr>\n      <th>2</th>\n      <td>Albury</td>\n      <td>12.9</td>\n      <td>25.7</td>\n      <td>0.0</td>\n      <td>WSW</td>\n      <td>46.0</td>\n      <td>W</td>\n      <td>WSW</td>\n      <td>19.0</td>\n      <td>26.0</td>\n      <td>38.0</td>\n      <td>30.0</td>\n      <td>1007.6</td>\n      <td>1008.7</td>\n      <td>21.0</td>\n      <td>23.2</td>\n      <td>0</td>\n      <td>12</td>\n    </tr>\n    <tr>\n      <th>3</th>\n      <td>Albury</td>\n      <td>9.2</td>\n      <td>28.0</td>\n      <td>0.0</td>\n      <td>NE</td>\n      <td>24.0</td>\n      <td>SE</td>\n      <td>E</td>\n      <td>11.0</td>\n      <td>9.0</td>\n      <td>45.0</td>\n      <td>16.0</td>\n      <td>1017.6</td>\n      <td>1012.8</td>\n      <td>18.1</td>\n      <td>26.5</td>\n      <td>0</td>\n      <td>12</td>\n    </tr>\n    <tr>\n      <th>4</th>\n      <td>Albury</td>\n      <td>17.5</td>\n      <td>32.3</td>\n      <td>1.0</td>\n      <td>W</td>\n      <td>41.0</td>\n      <td>ENE</td>\n      <td>NW</td>\n      <td>7.0</td>\n      <td>20.0</td>\n      <td>82.0</td>\n      <td>33.0</td>\n      <td>1010.8</td>\n      <td>1006.0</td>\n      <td>17.8</td>\n      <td>29.7</td>\n      <td>0</td>\n      <td>12</td>\n    </tr>\n    <tr>\n      <th>5</th>\n      <td>Albury</td>\n      <td>14.6</td>\n      <td>29.7</td>\n      <td>0.2</td>\n      <td>WNW</td>\n      <td>56.0</td>\n      <td>W</td>\n      <td>W</td>\n      <td>19.0</td>\n      <td>24.0</td>\n      <td>55.0</td>\n      <td>23.0</td>\n      <td>1009.2</td>\n      <td>1005.4</td>\n      <td>20.6</td>\n      <td>28.9</td>\n      <td>0</td>\n      <td>12</td>\n    </tr>\n    <tr>\n      <th>6</th>\n      <td>Albury</td>\n      <td>14.3</td>\n      <td>25.0</td>\n      <td>0.0</td>\n      <td>W</td>\n      <td>50.0</td>\n      <td>SW</td>\n      <td>W</td>\n      <td>20.0</td>\n      <td>24.0</td>\n      <td>49.0</td>\n      <td>19.0</td>\n      <td>1009.6</td>\n      <td>1008.2</td>\n      <td>18.1</td>\n      <td>24.6</td>\n      <td>0</td>\n      <td>12</td>\n    </tr>\n    <tr>\n      <th>7</th>\n      <td>Albury</td>\n      <td>7.7</td>\n      <td>26.7</td>\n      <td>0.0</td>\n      <td>W</td>\n      <td>35.0</td>\n      <td>SSE</td>\n      <td>W</td>\n      <td>6.0</td>\n      <td>17.0</td>\n      <td>48.0</td>\n      <td>19.0</td>\n      <td>1013.4</td>\n      <td>1010.1</td>\n      <td>16.3</td>\n      <td>25.5</td>\n      <td>0</td>\n      <td>12</td>\n    </tr>\n    <tr>\n      <th>8</th>\n      <td>Albury</td>\n      <td>9.7</td>\n      <td>31.9</td>\n      <td>0.0</td>\n      <td>NNW</td>\n      <td>80.0</td>\n      <td>SE</td>\n      <td>NW</td>\n      <td>7.0</td>\n      <td>28.0</td>\n      <td>42.0</td>\n      <td>9.0</td>\n      <td>1008.9</td>\n      <td>1003.6</td>\n      <td>18.3</td>\n      <td>30.2</td>\n      <td>0</td>\n      <td>12</td>\n    </tr>\n    <tr>\n      <th>9</th>\n      <td>Albury</td>\n      <td>13.1</td>\n      <td>30.1</td>\n      <td>1.4</td>\n      <td>W</td>\n      <td>28.0</td>\n      <td>S</td>\n      <td>SSE</td>\n      <td>15.0</td>\n      <td>11.0</td>\n      <td>58.0</td>\n      <td>27.0</td>\n      <td>1007.0</td>\n      <td>1005.7</td>\n      <td>20.1</td>\n      <td>28.2</td>\n      <td>1</td>\n      <td>12</td>\n    </tr>\n  </tbody>\n</table>\n</div>"
          },
          "metadata": {}
        }
      ]
    },
    {
      "metadata": {
        "trusted": true,
        "_uuid": "045fc3a5061e41902782da6353f10b3de262a918",
        "scrolled": false
      },
      "cell_type": "code",
      "source": "## Convert categorical columns to dummy variables\ndummy_cols = [\"Location\", \"WindGustDir\", \"WindDir9am\", \"WindDir3pm\", \"Month\"]\nfeatures = pd.get_dummies(data=features, columns=dummy_cols)\n\nprint(features.shape)\nfeatures.head()",
      "execution_count": 14,
      "outputs": [
        {
          "output_type": "stream",
          "text": "(112925, 117)\n",
          "name": "stdout"
        },
        {
          "output_type": "execute_result",
          "execution_count": 14,
          "data": {
            "text/plain": "   MinTemp  MaxTemp  Rainfall    ...     Month_10  Month_11  Month_12\n0     13.4     22.9       0.6    ...            0         0         1\n1      7.4     25.1       0.0    ...            0         0         1\n2     12.9     25.7       0.0    ...            0         0         1\n3      9.2     28.0       0.0    ...            0         0         1\n4     17.5     32.3       1.0    ...            0         0         1\n\n[5 rows x 117 columns]",
            "text/html": "<div>\n<style scoped>\n    .dataframe tbody tr th:only-of-type {\n        vertical-align: middle;\n    }\n\n    .dataframe tbody tr th {\n        vertical-align: top;\n    }\n\n    .dataframe thead th {\n        text-align: right;\n    }\n</style>\n<table border=\"1\" class=\"dataframe\">\n  <thead>\n    <tr style=\"text-align: right;\">\n      <th></th>\n      <th>MinTemp</th>\n      <th>MaxTemp</th>\n      <th>Rainfall</th>\n      <th>WindGustSpeed</th>\n      <th>WindSpeed9am</th>\n      <th>WindSpeed3pm</th>\n      <th>Humidity9am</th>\n      <th>Humidity3pm</th>\n      <th>Pressure9am</th>\n      <th>Pressure3pm</th>\n      <th>Temp9am</th>\n      <th>Temp3pm</th>\n      <th>RainToday</th>\n      <th>Location_Adelaide</th>\n      <th>Location_Albury</th>\n      <th>Location_AliceSprings</th>\n      <th>Location_BadgerysCreek</th>\n      <th>Location_Ballarat</th>\n      <th>Location_Bendigo</th>\n      <th>Location_Brisbane</th>\n      <th>Location_Cairns</th>\n      <th>Location_Canberra</th>\n      <th>Location_Cobar</th>\n      <th>Location_CoffsHarbour</th>\n      <th>Location_Dartmoor</th>\n      <th>Location_Darwin</th>\n      <th>Location_GoldCoast</th>\n      <th>Location_Hobart</th>\n      <th>Location_Katherine</th>\n      <th>Location_Launceston</th>\n      <th>Location_Melbourne</th>\n      <th>Location_MelbourneAirport</th>\n      <th>Location_Mildura</th>\n      <th>Location_Moree</th>\n      <th>Location_MountGambier</th>\n      <th>Location_Nhil</th>\n      <th>Location_NorahHead</th>\n      <th>Location_NorfolkIsland</th>\n      <th>Location_Nuriootpa</th>\n      <th>Location_PearceRAAF</th>\n      <th>...</th>\n      <th>WindDir9am_NE</th>\n      <th>WindDir9am_NNE</th>\n      <th>WindDir9am_NNW</th>\n      <th>WindDir9am_NW</th>\n      <th>WindDir9am_S</th>\n      <th>WindDir9am_SE</th>\n      <th>WindDir9am_SSE</th>\n      <th>WindDir9am_SSW</th>\n      <th>WindDir9am_SW</th>\n      <th>WindDir9am_W</th>\n      <th>WindDir9am_WNW</th>\n      <th>WindDir9am_WSW</th>\n      <th>WindDir3pm_E</th>\n      <th>WindDir3pm_ENE</th>\n      <th>WindDir3pm_ESE</th>\n      <th>WindDir3pm_N</th>\n      <th>WindDir3pm_NE</th>\n      <th>WindDir3pm_NNE</th>\n      <th>WindDir3pm_NNW</th>\n      <th>WindDir3pm_NW</th>\n      <th>WindDir3pm_S</th>\n      <th>WindDir3pm_SE</th>\n      <th>WindDir3pm_SSE</th>\n      <th>WindDir3pm_SSW</th>\n      <th>WindDir3pm_SW</th>\n      <th>WindDir3pm_W</th>\n      <th>WindDir3pm_WNW</th>\n      <th>WindDir3pm_WSW</th>\n      <th>Month_1</th>\n      <th>Month_2</th>\n      <th>Month_3</th>\n      <th>Month_4</th>\n      <th>Month_5</th>\n      <th>Month_6</th>\n      <th>Month_7</th>\n      <th>Month_8</th>\n      <th>Month_9</th>\n      <th>Month_10</th>\n      <th>Month_11</th>\n      <th>Month_12</th>\n    </tr>\n  </thead>\n  <tbody>\n    <tr>\n      <th>0</th>\n      <td>13.4</td>\n      <td>22.9</td>\n      <td>0.6</td>\n      <td>44.0</td>\n      <td>20.0</td>\n      <td>24.0</td>\n      <td>71.0</td>\n      <td>22.0</td>\n      <td>1007.7</td>\n      <td>1007.1</td>\n      <td>16.9</td>\n      <td>21.8</td>\n      <td>0</td>\n      <td>0</td>\n      <td>1</td>\n      <td>0</td>\n      <td>0</td>\n      <td>0</td>\n      <td>0</td>\n      <td>0</td>\n      <td>0</td>\n      <td>0</td>\n      <td>0</td>\n      <td>0</td>\n      <td>0</td>\n      <td>0</td>\n      <td>0</td>\n      <td>0</td>\n      <td>0</td>\n      <td>0</td>\n      <td>0</td>\n      <td>0</td>\n      <td>0</td>\n      <td>0</td>\n      <td>0</td>\n      <td>0</td>\n      <td>0</td>\n      <td>0</td>\n      <td>0</td>\n      <td>0</td>\n      <td>...</td>\n      <td>0</td>\n      <td>0</td>\n      <td>0</td>\n      <td>0</td>\n      <td>0</td>\n      <td>0</td>\n      <td>0</td>\n      <td>0</td>\n      <td>0</td>\n      <td>1</td>\n      <td>0</td>\n      <td>0</td>\n      <td>0</td>\n      <td>0</td>\n      <td>0</td>\n      <td>0</td>\n      <td>0</td>\n      <td>0</td>\n      <td>0</td>\n      <td>0</td>\n      <td>0</td>\n      <td>0</td>\n      <td>0</td>\n      <td>0</td>\n      <td>0</td>\n      <td>0</td>\n      <td>1</td>\n      <td>0</td>\n      <td>0</td>\n      <td>0</td>\n      <td>0</td>\n      <td>0</td>\n      <td>0</td>\n      <td>0</td>\n      <td>0</td>\n      <td>0</td>\n      <td>0</td>\n      <td>0</td>\n      <td>0</td>\n      <td>1</td>\n    </tr>\n    <tr>\n      <th>1</th>\n      <td>7.4</td>\n      <td>25.1</td>\n      <td>0.0</td>\n      <td>44.0</td>\n      <td>4.0</td>\n      <td>22.0</td>\n      <td>44.0</td>\n      <td>25.0</td>\n      <td>1010.6</td>\n      <td>1007.8</td>\n      <td>17.2</td>\n      <td>24.3</td>\n      <td>0</td>\n      <td>0</td>\n      <td>1</td>\n      <td>0</td>\n      <td>0</td>\n      <td>0</td>\n      <td>0</td>\n      <td>0</td>\n      <td>0</td>\n      <td>0</td>\n      <td>0</td>\n      <td>0</td>\n      <td>0</td>\n      <td>0</td>\n      <td>0</td>\n      <td>0</td>\n      <td>0</td>\n      <td>0</td>\n      <td>0</td>\n      <td>0</td>\n      <td>0</td>\n      <td>0</td>\n      <td>0</td>\n      <td>0</td>\n      <td>0</td>\n      <td>0</td>\n      <td>0</td>\n      <td>0</td>\n      <td>...</td>\n      <td>0</td>\n      <td>0</td>\n      <td>1</td>\n      <td>0</td>\n      <td>0</td>\n      <td>0</td>\n      <td>0</td>\n      <td>0</td>\n      <td>0</td>\n      <td>0</td>\n      <td>0</td>\n      <td>0</td>\n      <td>0</td>\n      <td>0</td>\n      <td>0</td>\n      <td>0</td>\n      <td>0</td>\n      <td>0</td>\n      <td>0</td>\n      <td>0</td>\n      <td>0</td>\n      <td>0</td>\n      <td>0</td>\n      <td>0</td>\n      <td>0</td>\n      <td>0</td>\n      <td>0</td>\n      <td>1</td>\n      <td>0</td>\n      <td>0</td>\n      <td>0</td>\n      <td>0</td>\n      <td>0</td>\n      <td>0</td>\n      <td>0</td>\n      <td>0</td>\n      <td>0</td>\n      <td>0</td>\n      <td>0</td>\n      <td>1</td>\n    </tr>\n    <tr>\n      <th>2</th>\n      <td>12.9</td>\n      <td>25.7</td>\n      <td>0.0</td>\n      <td>46.0</td>\n      <td>19.0</td>\n      <td>26.0</td>\n      <td>38.0</td>\n      <td>30.0</td>\n      <td>1007.6</td>\n      <td>1008.7</td>\n      <td>21.0</td>\n      <td>23.2</td>\n      <td>0</td>\n      <td>0</td>\n      <td>1</td>\n      <td>0</td>\n      <td>0</td>\n      <td>0</td>\n      <td>0</td>\n      <td>0</td>\n      <td>0</td>\n      <td>0</td>\n      <td>0</td>\n      <td>0</td>\n      <td>0</td>\n      <td>0</td>\n      <td>0</td>\n      <td>0</td>\n      <td>0</td>\n      <td>0</td>\n      <td>0</td>\n      <td>0</td>\n      <td>0</td>\n      <td>0</td>\n      <td>0</td>\n      <td>0</td>\n      <td>0</td>\n      <td>0</td>\n      <td>0</td>\n      <td>0</td>\n      <td>...</td>\n      <td>0</td>\n      <td>0</td>\n      <td>0</td>\n      <td>0</td>\n      <td>0</td>\n      <td>0</td>\n      <td>0</td>\n      <td>0</td>\n      <td>0</td>\n      <td>1</td>\n      <td>0</td>\n      <td>0</td>\n      <td>0</td>\n      <td>0</td>\n      <td>0</td>\n      <td>0</td>\n      <td>0</td>\n      <td>0</td>\n      <td>0</td>\n      <td>0</td>\n      <td>0</td>\n      <td>0</td>\n      <td>0</td>\n      <td>0</td>\n      <td>0</td>\n      <td>0</td>\n      <td>0</td>\n      <td>1</td>\n      <td>0</td>\n      <td>0</td>\n      <td>0</td>\n      <td>0</td>\n      <td>0</td>\n      <td>0</td>\n      <td>0</td>\n      <td>0</td>\n      <td>0</td>\n      <td>0</td>\n      <td>0</td>\n      <td>1</td>\n    </tr>\n    <tr>\n      <th>3</th>\n      <td>9.2</td>\n      <td>28.0</td>\n      <td>0.0</td>\n      <td>24.0</td>\n      <td>11.0</td>\n      <td>9.0</td>\n      <td>45.0</td>\n      <td>16.0</td>\n      <td>1017.6</td>\n      <td>1012.8</td>\n      <td>18.1</td>\n      <td>26.5</td>\n      <td>0</td>\n      <td>0</td>\n      <td>1</td>\n      <td>0</td>\n      <td>0</td>\n      <td>0</td>\n      <td>0</td>\n      <td>0</td>\n      <td>0</td>\n      <td>0</td>\n      <td>0</td>\n      <td>0</td>\n      <td>0</td>\n      <td>0</td>\n      <td>0</td>\n      <td>0</td>\n      <td>0</td>\n      <td>0</td>\n      <td>0</td>\n      <td>0</td>\n      <td>0</td>\n      <td>0</td>\n      <td>0</td>\n      <td>0</td>\n      <td>0</td>\n      <td>0</td>\n      <td>0</td>\n      <td>0</td>\n      <td>...</td>\n      <td>0</td>\n      <td>0</td>\n      <td>0</td>\n      <td>0</td>\n      <td>0</td>\n      <td>1</td>\n      <td>0</td>\n      <td>0</td>\n      <td>0</td>\n      <td>0</td>\n      <td>0</td>\n      <td>0</td>\n      <td>1</td>\n      <td>0</td>\n      <td>0</td>\n      <td>0</td>\n      <td>0</td>\n      <td>0</td>\n      <td>0</td>\n      <td>0</td>\n      <td>0</td>\n      <td>0</td>\n      <td>0</td>\n      <td>0</td>\n      <td>0</td>\n      <td>0</td>\n      <td>0</td>\n      <td>0</td>\n      <td>0</td>\n      <td>0</td>\n      <td>0</td>\n      <td>0</td>\n      <td>0</td>\n      <td>0</td>\n      <td>0</td>\n      <td>0</td>\n      <td>0</td>\n      <td>0</td>\n      <td>0</td>\n      <td>1</td>\n    </tr>\n    <tr>\n      <th>4</th>\n      <td>17.5</td>\n      <td>32.3</td>\n      <td>1.0</td>\n      <td>41.0</td>\n      <td>7.0</td>\n      <td>20.0</td>\n      <td>82.0</td>\n      <td>33.0</td>\n      <td>1010.8</td>\n      <td>1006.0</td>\n      <td>17.8</td>\n      <td>29.7</td>\n      <td>0</td>\n      <td>0</td>\n      <td>1</td>\n      <td>0</td>\n      <td>0</td>\n      <td>0</td>\n      <td>0</td>\n      <td>0</td>\n      <td>0</td>\n      <td>0</td>\n      <td>0</td>\n      <td>0</td>\n      <td>0</td>\n      <td>0</td>\n      <td>0</td>\n      <td>0</td>\n      <td>0</td>\n      <td>0</td>\n      <td>0</td>\n      <td>0</td>\n      <td>0</td>\n      <td>0</td>\n      <td>0</td>\n      <td>0</td>\n      <td>0</td>\n      <td>0</td>\n      <td>0</td>\n      <td>0</td>\n      <td>...</td>\n      <td>0</td>\n      <td>0</td>\n      <td>0</td>\n      <td>0</td>\n      <td>0</td>\n      <td>0</td>\n      <td>0</td>\n      <td>0</td>\n      <td>0</td>\n      <td>0</td>\n      <td>0</td>\n      <td>0</td>\n      <td>0</td>\n      <td>0</td>\n      <td>0</td>\n      <td>0</td>\n      <td>0</td>\n      <td>0</td>\n      <td>0</td>\n      <td>1</td>\n      <td>0</td>\n      <td>0</td>\n      <td>0</td>\n      <td>0</td>\n      <td>0</td>\n      <td>0</td>\n      <td>0</td>\n      <td>0</td>\n      <td>0</td>\n      <td>0</td>\n      <td>0</td>\n      <td>0</td>\n      <td>0</td>\n      <td>0</td>\n      <td>0</td>\n      <td>0</td>\n      <td>0</td>\n      <td>0</td>\n      <td>0</td>\n      <td>1</td>\n    </tr>\n  </tbody>\n</table>\n</div>"
          },
          "metadata": {}
        }
      ]
    },
    {
      "metadata": {
        "_uuid": "ca0d99e302de4444d774c9f94fec6ba0f6168c15"
      },
      "cell_type": "markdown",
      "source": "# Step 2: Split up your data"
    },
    {
      "metadata": {
        "trusted": true,
        "_uuid": "a17bc778ffa14390a2b44ac5456cabef921f044e"
      },
      "cell_type": "code",
      "source": "## import sklearn.model_selection.train_test_split\n\nfrom sklearn.model_selection import train_test_split",
      "execution_count": 15,
      "outputs": []
    },
    {
      "metadata": {
        "_kg_hide-output": true,
        "trusted": true,
        "_uuid": "b34a89e9a5e4889edc4a157fefe58a87b55a6eab"
      },
      "cell_type": "code",
      "source": "## Split your features and labels into training and testing sets \n\nx_train, x_test, y_train, y_test = train_test_split(features, labels, train_size=0.80, test_size=0.20)\n\nprint(\"X train: {}  X test:{}\".format(x_train.shape, x_test.shape))\nprint(\"Y train: {}  Y test:{}\".format(y_train.shape, y_test.shape))",
      "execution_count": 16,
      "outputs": [
        {
          "output_type": "stream",
          "text": "X train: (90340, 117)  X test:(22585, 117)\nY train: (90340,)  Y test:(22585,)\n",
          "name": "stdout"
        }
      ]
    },
    {
      "metadata": {
        "_uuid": "c46fb7846673db323fa750dfc2b72158ce406ed7"
      },
      "cell_type": "markdown",
      "source": "# Step 3: Pick a model and hyperparameters"
    },
    {
      "metadata": {
        "trusted": true,
        "_uuid": "3de6d19e29bef5045379275771803b15ea230a58"
      },
      "cell_type": "code",
      "source": "## import sklearn.ensemble.RandomForestClassifier\n## import sklearn.model_selection.GridSearchCV\n\nfrom sklearn.ensemble import RandomForestClassifier\nfrom sklearn.model_selection import GridSearchCV",
      "execution_count": 18,
      "outputs": []
    },
    {
      "metadata": {
        "trusted": true,
        "_uuid": "73dbdc22849668797c4bc4ff1bfeb9949954152a"
      },
      "cell_type": "code",
      "source": "## For this workshop we're using Random Forest, define hyperparameters and grid search\nrf_params = {\"n_estimators\":[10, 50, 100], \"max_depth\":[3, 6]}\n\n## GridSearchCV combines grid search for choosing hyperparameters, and cross validation\n## This one line of code is incredibly powerful (it trains 3 x 2 x 3 models)\ngrid_search = GridSearchCV(RandomForestClassifier(class_weight=\"balanced\"), rf_params, cv=3)",
      "execution_count": 19,
      "outputs": []
    },
    {
      "metadata": {
        "_uuid": "8e7bb761f3b2f13550e2744e6d5c653386d87083"
      },
      "cell_type": "markdown",
      "source": "# Step 4: Train your model"
    },
    {
      "metadata": {
        "trusted": true,
        "_uuid": "fce6fcdfb8793354488843ad82c4386d93fe224d"
      },
      "cell_type": "code",
      "source": "## Fit your grid search object (this can take a while)\n## For all 6 combinations of hyperparameters, trains 3 fold cross validation (trains 18 total models)\n\ngrid_search.fit(x_train, y_train)\n\n## Get the estimator with the best performance from the grid search\nmodel = grid_search.best_estimator_\n\nmodel",
      "execution_count": 20,
      "outputs": [
        {
          "output_type": "execute_result",
          "execution_count": 20,
          "data": {
            "text/plain": "RandomForestClassifier(bootstrap=True, class_weight='balanced',\n            criterion='gini', max_depth=6, max_features='auto',\n            max_leaf_nodes=None, min_impurity_decrease=0.0,\n            min_impurity_split=None, min_samples_leaf=1,\n            min_samples_split=2, min_weight_fraction_leaf=0.0,\n            n_estimators=100, n_jobs=None, oob_score=False,\n            random_state=None, verbose=0, warm_start=False)"
          },
          "metadata": {}
        }
      ]
    },
    {
      "metadata": {
        "_uuid": "c3b6e61b1d677499b5fde2c03d91aef8153a28f2"
      },
      "cell_type": "markdown",
      "source": "# Step 5: Evaluate your model"
    },
    {
      "metadata": {
        "trusted": true,
        "_uuid": "3d15e4fcbb735eba51cbd8ab7d950ab6aa080250"
      },
      "cell_type": "code",
      "source": "## Predict labels and/or probabilities for your test set\n\ny_pred = model.predict(x_test)\ny_probs = model.predict_proba(x_test)\n\nprint(y_pred.size)",
      "execution_count": 21,
      "outputs": [
        {
          "output_type": "stream",
          "text": "22585\n",
          "name": "stdout"
        }
      ]
    },
    {
      "metadata": {
        "trusted": true,
        "_uuid": "54ac79a0aef07cec8da8cac48fc8986d73571e1b"
      },
      "cell_type": "code",
      "source": "## Import sklearn.metrics:confusion_matrix, precision_score, recall_score, and accuracy_score\nfrom sklearn.metrics import confusion_matrix, precision_score, recall_score, accuracy_score",
      "execution_count": 22,
      "outputs": []
    },
    {
      "metadata": {
        "trusted": true,
        "_uuid": "1ee16ea63308856e255946e6273a8155a22e8e96"
      },
      "cell_type": "code",
      "source": "## Make a confusion matrix to look at binary classification performance\n\ncm = confusion_matrix(y_test, y_pred)\nprint(\"True Positive: {}  False Positive: {}\".format(cm[1][1], cm[1][0]))\nprint(\"False Negative: {}  True Negative: {}\".format(cm[0][1], cm[0][0]))\n",
      "execution_count": 24,
      "outputs": [
        {
          "output_type": "stream",
          "text": "True Positive: 3814  False Positive: 1311\nFalse Negative: 3633  True Negative: 13827\n",
          "name": "stdout"
        }
      ]
    },
    {
      "metadata": {
        "trusted": true,
        "_uuid": "6ab4ae6b8ee6fa8ddc271f34a4826c25c2545fc7"
      },
      "cell_type": "code",
      "source": "## Calculate 3 other common classification metrics\n\nmetrics = {\"precision\":precision_score, \"recall\":recall_score, \n           \"accuracy\":accuracy_score}",
      "execution_count": 25,
      "outputs": []
    },
    {
      "metadata": {
        "trusted": true,
        "scrolled": true,
        "_uuid": "e96dba0b34da30afaad1631e62d3f8947e4e8f5a"
      },
      "cell_type": "code",
      "source": "for name in metrics:\n    print(name)\n    print(metrics[name](y_test, y_pred))",
      "execution_count": 26,
      "outputs": [
        {
          "output_type": "stream",
          "text": "precision\n0.5121525446488518\nrecall\n0.7441951219512195\naccuracy\n0.7810936462253708\n",
          "name": "stdout"
        }
      ]
    },
    {
      "metadata": {
        "_uuid": "0ff34b69fdfb69519b15208446463289248f8a2c"
      },
      "cell_type": "markdown",
      "source": "### A warning about \"accuracy\":\n\nAccuracy is not a great measure when you have unbalanced classes.   \nIf you're predicting cancer and it is only present in 1% of people, your model could always   \npredict \"No Cancer\" and it would have an accuracy of 99%. This is misleading."
    },
    {
      "metadata": {
        "trusted": true,
        "_uuid": "a85872235366e1759a47af7a1c89ddac05fc59cd"
      },
      "cell_type": "code",
      "source": "## What accuracy could our model achieve if it only predicted \"No Rain\"\n1 - np.mean(y_test)",
      "execution_count": 28,
      "outputs": [
        {
          "output_type": "execute_result",
          "execution_count": 28,
          "data": {
            "text/plain": "0.7730794775293336"
          },
          "metadata": {}
        }
      ]
    },
    {
      "metadata": {
        "_uuid": "0cdd0d6a324e76797104c5ec484c406ca97b4c97"
      },
      "cell_type": "markdown",
      "source": "## Optional: Feature Importance\n Some models assign \"importance\" to the various feature columns in your training data.   \n If the model you used calculates those, you can look at the learned importance of each variable."
    },
    {
      "metadata": {
        "trusted": true,
        "_uuid": "b74b1d045882719d3581a2f2e5865b3a3a8a38af"
      },
      "cell_type": "code",
      "source": "feat_importances = pd.DataFrame({\"Feature\":x_train.columns, \"Importance\":model.feature_importances_})",
      "execution_count": 29,
      "outputs": []
    },
    {
      "metadata": {
        "trusted": true,
        "_uuid": "f0e5a5495517ed74e84e880161d05c6ea91d9f0b"
      },
      "cell_type": "code",
      "source": "feat_importances.sort_values(\"Importance\", ascending=False).head(15)",
      "execution_count": 30,
      "outputs": [
        {
          "output_type": "execute_result",
          "execution_count": 30,
          "data": {
            "text/plain": "             Feature  Importance\n7        Humidity3pm    0.266797\n2           Rainfall    0.148645\n6        Humidity9am    0.111220\n12         RainToday    0.098500\n3      WindGustSpeed    0.074194\n8        Pressure9am    0.065966\n9        Pressure3pm    0.061480\n11           Temp3pm    0.040103\n1            MaxTemp    0.031291\n0            MinTemp    0.019379\n4       WindSpeed9am    0.010566\n5       WindSpeed3pm    0.010499\n10           Temp9am    0.010232\n76      WindDir9am_N    0.006486\n56  Location_Woomera    0.003630",
            "text/html": "<div>\n<style scoped>\n    .dataframe tbody tr th:only-of-type {\n        vertical-align: middle;\n    }\n\n    .dataframe tbody tr th {\n        vertical-align: top;\n    }\n\n    .dataframe thead th {\n        text-align: right;\n    }\n</style>\n<table border=\"1\" class=\"dataframe\">\n  <thead>\n    <tr style=\"text-align: right;\">\n      <th></th>\n      <th>Feature</th>\n      <th>Importance</th>\n    </tr>\n  </thead>\n  <tbody>\n    <tr>\n      <th>7</th>\n      <td>Humidity3pm</td>\n      <td>0.266797</td>\n    </tr>\n    <tr>\n      <th>2</th>\n      <td>Rainfall</td>\n      <td>0.148645</td>\n    </tr>\n    <tr>\n      <th>6</th>\n      <td>Humidity9am</td>\n      <td>0.111220</td>\n    </tr>\n    <tr>\n      <th>12</th>\n      <td>RainToday</td>\n      <td>0.098500</td>\n    </tr>\n    <tr>\n      <th>3</th>\n      <td>WindGustSpeed</td>\n      <td>0.074194</td>\n    </tr>\n    <tr>\n      <th>8</th>\n      <td>Pressure9am</td>\n      <td>0.065966</td>\n    </tr>\n    <tr>\n      <th>9</th>\n      <td>Pressure3pm</td>\n      <td>0.061480</td>\n    </tr>\n    <tr>\n      <th>11</th>\n      <td>Temp3pm</td>\n      <td>0.040103</td>\n    </tr>\n    <tr>\n      <th>1</th>\n      <td>MaxTemp</td>\n      <td>0.031291</td>\n    </tr>\n    <tr>\n      <th>0</th>\n      <td>MinTemp</td>\n      <td>0.019379</td>\n    </tr>\n    <tr>\n      <th>4</th>\n      <td>WindSpeed9am</td>\n      <td>0.010566</td>\n    </tr>\n    <tr>\n      <th>5</th>\n      <td>WindSpeed3pm</td>\n      <td>0.010499</td>\n    </tr>\n    <tr>\n      <th>10</th>\n      <td>Temp9am</td>\n      <td>0.010232</td>\n    </tr>\n    <tr>\n      <th>76</th>\n      <td>WindDir9am_N</td>\n      <td>0.006486</td>\n    </tr>\n    <tr>\n      <th>56</th>\n      <td>Location_Woomera</td>\n      <td>0.003630</td>\n    </tr>\n  </tbody>\n</table>\n</div>"
          },
          "metadata": {}
        }
      ]
    },
    {
      "metadata": {
        "trusted": true,
        "_uuid": "1c16ac9d929d8e7a614764dacc022d06fb7a4dcd"
      },
      "cell_type": "code",
      "source": "",
      "execution_count": null,
      "outputs": []
    }
  ],
  "metadata": {
    "kernelspec": {
      "display_name": "Python 3",
      "language": "python",
      "name": "python3"
    },
    "language_info": {
      "name": "python",
      "version": "3.6.6",
      "mimetype": "text/x-python",
      "codemirror_mode": {
        "name": "ipython",
        "version": 3
      },
      "pygments_lexer": "ipython3",
      "nbconvert_exporter": "python",
      "file_extension": ".py"
    }
  },
  "nbformat": 4,
  "nbformat_minor": 1
}